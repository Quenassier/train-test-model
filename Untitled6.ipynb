{
  "nbformat": 4,
  "nbformat_minor": 0,
  "metadata": {
    "colab": {
      "provenance": [],
      "authorship_tag": "ABX9TyMs5AuEKfbF8MZpgskdf1/G",
      "include_colab_link": true
    },
    "kernelspec": {
      "name": "python3",
      "display_name": "Python 3"
    },
    "language_info": {
      "name": "python"
    }
  },
  "cells": [
    {
      "cell_type": "markdown",
      "metadata": {
        "id": "view-in-github",
        "colab_type": "text"
      },
      "source": [
        "<a href=\"https://colab.research.google.com/github/Quenassier/train-test-model/blob/main/Untitled6.ipynb\" target=\"_parent\"><img src=\"https://colab.research.google.com/assets/colab-badge.svg\" alt=\"Open In Colab\"/></a>"
      ]
    },
    {
      "cell_type": "code",
      "execution_count": 2,
      "metadata": {
        "id": "k3PqsOtTC_Qn"
      },
      "outputs": [],
      "source": [
        "import pandas as pd\n",
        "from sklearn.model_selection import train_test_split\n",
        "from sklearn.linear_model import LogisticRegression\n",
        "from sklearn.linear_model import LinearRegression\n",
        "from sklearn.neighbors import KNeighborsClassifier\n",
        "from sklearn.metrics import accuracy_score\n",
        "from sklearn.impute import SimpleImputer\n",
        "from sklearn.preprocessing import LabelEncoder\n"
      ]
    },
    {
      "cell_type": "code",
      "source": [
        "train_data = pd.read_csv(\"train.csv\")\n",
        "test_data = pd.read_csv(\"test.csv\")"
      ],
      "metadata": {
        "id": "lzFWrkm2HADo"
      },
      "execution_count": 4,
      "outputs": []
    },
    {
      "cell_type": "code",
      "source": [
        "imputer = SimpleImputer(strategy=\"mean\")\n",
        "train_data[\"Age\"] = imputer.fit_transform(train_data[[\"Age\"]])\n",
        "test_data[\"Age\"] = imputer.transform(test_data[[\"Age\"]])"
      ],
      "metadata": {
        "id": "-pdZvpFzHDIb"
      },
      "execution_count": 5,
      "outputs": []
    },
    {
      "cell_type": "code",
      "source": [
        "print(train_data)\n",
        "print(test_data)"
      ],
      "metadata": {
        "colab": {
          "base_uri": "https://localhost:8080/"
        },
        "id": "3ZkROFbKHE1z",
        "outputId": "eb87982b-63f4-4779-e4b0-064fe0ee80f5"
      },
      "execution_count": 6,
      "outputs": [
        {
          "output_type": "stream",
          "name": "stdout",
          "text": [
            "     PassengerId  Survived  Pclass  \\\n",
            "0              1         0       3   \n",
            "1              2         1       1   \n",
            "2              3         1       3   \n",
            "3              4         1       1   \n",
            "4              5         0       3   \n",
            "..           ...       ...     ...   \n",
            "886          887         0       2   \n",
            "887          888         1       1   \n",
            "888          889         0       3   \n",
            "889          890         1       1   \n",
            "890          891         0       3   \n",
            "\n",
            "                                                  Name     Sex        Age  \\\n",
            "0                              Braund, Mr. Owen Harris    male  22.000000   \n",
            "1    Cumings, Mrs. John Bradley (Florence Briggs Th...  female  38.000000   \n",
            "2                               Heikkinen, Miss. Laina  female  26.000000   \n",
            "3         Futrelle, Mrs. Jacques Heath (Lily May Peel)  female  35.000000   \n",
            "4                             Allen, Mr. William Henry    male  35.000000   \n",
            "..                                                 ...     ...        ...   \n",
            "886                              Montvila, Rev. Juozas    male  27.000000   \n",
            "887                       Graham, Miss. Margaret Edith  female  19.000000   \n",
            "888           Johnston, Miss. Catherine Helen \"Carrie\"  female  29.699118   \n",
            "889                              Behr, Mr. Karl Howell    male  26.000000   \n",
            "890                                Dooley, Mr. Patrick    male  32.000000   \n",
            "\n",
            "     SibSp  Parch            Ticket     Fare Cabin Embarked  \n",
            "0        1      0         A/5 21171   7.2500   NaN        S  \n",
            "1        1      0          PC 17599  71.2833   C85        C  \n",
            "2        0      0  STON/O2. 3101282   7.9250   NaN        S  \n",
            "3        1      0            113803  53.1000  C123        S  \n",
            "4        0      0            373450   8.0500   NaN        S  \n",
            "..     ...    ...               ...      ...   ...      ...  \n",
            "886      0      0            211536  13.0000   NaN        S  \n",
            "887      0      0            112053  30.0000   B42        S  \n",
            "888      1      2        W./C. 6607  23.4500   NaN        S  \n",
            "889      0      0            111369  30.0000  C148        C  \n",
            "890      0      0            370376   7.7500   NaN        Q  \n",
            "\n",
            "[891 rows x 12 columns]\n",
            "     PassengerId  Pclass                                          Name  \\\n",
            "0            892       3                              Kelly, Mr. James   \n",
            "1            893       3              Wilkes, Mrs. James (Ellen Needs)   \n",
            "2            894       2                     Myles, Mr. Thomas Francis   \n",
            "3            895       3                              Wirz, Mr. Albert   \n",
            "4            896       3  Hirvonen, Mrs. Alexander (Helga E Lindqvist)   \n",
            "..           ...     ...                                           ...   \n",
            "413         1305       3                            Spector, Mr. Woolf   \n",
            "414         1306       1                  Oliva y Ocana, Dona. Fermina   \n",
            "415         1307       3                  Saether, Mr. Simon Sivertsen   \n",
            "416         1308       3                           Ware, Mr. Frederick   \n",
            "417         1309       3                      Peter, Master. Michael J   \n",
            "\n",
            "        Sex        Age  SibSp  Parch              Ticket      Fare Cabin  \\\n",
            "0      male  34.500000      0      0              330911    7.8292   NaN   \n",
            "1    female  47.000000      1      0              363272    7.0000   NaN   \n",
            "2      male  62.000000      0      0              240276    9.6875   NaN   \n",
            "3      male  27.000000      0      0              315154    8.6625   NaN   \n",
            "4    female  22.000000      1      1             3101298   12.2875   NaN   \n",
            "..      ...        ...    ...    ...                 ...       ...   ...   \n",
            "413    male  29.699118      0      0           A.5. 3236    8.0500   NaN   \n",
            "414  female  39.000000      0      0            PC 17758  108.9000  C105   \n",
            "415    male  38.500000      0      0  SOTON/O.Q. 3101262    7.2500   NaN   \n",
            "416    male  29.699118      0      0              359309    8.0500   NaN   \n",
            "417    male  29.699118      1      1                2668   22.3583   NaN   \n",
            "\n",
            "    Embarked  \n",
            "0          Q  \n",
            "1          S  \n",
            "2          Q  \n",
            "3          S  \n",
            "4          S  \n",
            "..       ...  \n",
            "413        S  \n",
            "414        C  \n",
            "415        S  \n",
            "416        S  \n",
            "417        C  \n",
            "\n",
            "[418 rows x 11 columns]\n"
          ]
        }
      ]
    },
    {
      "cell_type": "code",
      "source": [
        "train_data[\"Embarked\"].fillna(train_data[\"Embarked\"].mode()[0], inplace=True)\n",
        "test_data[\"Embarked\"].fillna(test_data[\"Embarked\"].mode()[0], inplace=True)"
      ],
      "metadata": {
        "id": "3FVbAM8YHYOw"
      },
      "execution_count": 7,
      "outputs": []
    },
    {
      "cell_type": "code",
      "source": [
        "test_data[\"Fare\"].fillna(test_data[\"Fare\"].mean(), inplace=True)"
      ],
      "metadata": {
        "id": "wSJBcC_JHv2c"
      },
      "execution_count": 8,
      "outputs": []
    },
    {
      "cell_type": "code",
      "source": [
        "print(test_data)"
      ],
      "metadata": {
        "colab": {
          "base_uri": "https://localhost:8080/"
        },
        "id": "14mmulLZH874",
        "outputId": "0891edc1-d4e5-4cd6-8513-4b951962e2fe"
      },
      "execution_count": 9,
      "outputs": [
        {
          "output_type": "stream",
          "name": "stdout",
          "text": [
            "     PassengerId  Pclass                                          Name  \\\n",
            "0            892       3                              Kelly, Mr. James   \n",
            "1            893       3              Wilkes, Mrs. James (Ellen Needs)   \n",
            "2            894       2                     Myles, Mr. Thomas Francis   \n",
            "3            895       3                              Wirz, Mr. Albert   \n",
            "4            896       3  Hirvonen, Mrs. Alexander (Helga E Lindqvist)   \n",
            "..           ...     ...                                           ...   \n",
            "413         1305       3                            Spector, Mr. Woolf   \n",
            "414         1306       1                  Oliva y Ocana, Dona. Fermina   \n",
            "415         1307       3                  Saether, Mr. Simon Sivertsen   \n",
            "416         1308       3                           Ware, Mr. Frederick   \n",
            "417         1309       3                      Peter, Master. Michael J   \n",
            "\n",
            "        Sex        Age  SibSp  Parch              Ticket      Fare Cabin  \\\n",
            "0      male  34.500000      0      0              330911    7.8292   NaN   \n",
            "1    female  47.000000      1      0              363272    7.0000   NaN   \n",
            "2      male  62.000000      0      0              240276    9.6875   NaN   \n",
            "3      male  27.000000      0      0              315154    8.6625   NaN   \n",
            "4    female  22.000000      1      1             3101298   12.2875   NaN   \n",
            "..      ...        ...    ...    ...                 ...       ...   ...   \n",
            "413    male  29.699118      0      0           A.5. 3236    8.0500   NaN   \n",
            "414  female  39.000000      0      0            PC 17758  108.9000  C105   \n",
            "415    male  38.500000      0      0  SOTON/O.Q. 3101262    7.2500   NaN   \n",
            "416    male  29.699118      0      0              359309    8.0500   NaN   \n",
            "417    male  29.699118      1      1                2668   22.3583   NaN   \n",
            "\n",
            "    Embarked  \n",
            "0          Q  \n",
            "1          S  \n",
            "2          Q  \n",
            "3          S  \n",
            "4          S  \n",
            "..       ...  \n",
            "413        S  \n",
            "414        C  \n",
            "415        S  \n",
            "416        S  \n",
            "417        C  \n",
            "\n",
            "[418 rows x 11 columns]\n"
          ]
        }
      ]
    },
    {
      "cell_type": "code",
      "source": [
        "le = LabelEncoder()\n",
        "train_data[\"Sex\"] = le.fit_transform(train_data[\"Sex\"])\n",
        "test_data[\"Sex\"] = le.transform(test_data[\"Sex\"])\n",
        "train_data[\"Embarked\"] = le.fit_transform(train_data[\"Embarked\"])\n",
        "test_data[\"Embarked\"] = le.transform(test_data[\"Embarked\"])"
      ],
      "metadata": {
        "id": "hIUTifZsIo1A"
      },
      "execution_count": 10,
      "outputs": []
    },
    {
      "cell_type": "code",
      "source": [
        "print(train_data)\n",
        "print(test_data)"
      ],
      "metadata": {
        "colab": {
          "base_uri": "https://localhost:8080/"
        },
        "id": "mYHQ6eX0IqWw",
        "outputId": "4eb76b9f-f193-4f21-8a82-d5afbd2c8814"
      },
      "execution_count": 11,
      "outputs": [
        {
          "output_type": "stream",
          "name": "stdout",
          "text": [
            "     PassengerId  Survived  Pclass  \\\n",
            "0              1         0       3   \n",
            "1              2         1       1   \n",
            "2              3         1       3   \n",
            "3              4         1       1   \n",
            "4              5         0       3   \n",
            "..           ...       ...     ...   \n",
            "886          887         0       2   \n",
            "887          888         1       1   \n",
            "888          889         0       3   \n",
            "889          890         1       1   \n",
            "890          891         0       3   \n",
            "\n",
            "                                                  Name  Sex        Age  SibSp  \\\n",
            "0                              Braund, Mr. Owen Harris    1  22.000000      1   \n",
            "1    Cumings, Mrs. John Bradley (Florence Briggs Th...    0  38.000000      1   \n",
            "2                               Heikkinen, Miss. Laina    0  26.000000      0   \n",
            "3         Futrelle, Mrs. Jacques Heath (Lily May Peel)    0  35.000000      1   \n",
            "4                             Allen, Mr. William Henry    1  35.000000      0   \n",
            "..                                                 ...  ...        ...    ...   \n",
            "886                              Montvila, Rev. Juozas    1  27.000000      0   \n",
            "887                       Graham, Miss. Margaret Edith    0  19.000000      0   \n",
            "888           Johnston, Miss. Catherine Helen \"Carrie\"    0  29.699118      1   \n",
            "889                              Behr, Mr. Karl Howell    1  26.000000      0   \n",
            "890                                Dooley, Mr. Patrick    1  32.000000      0   \n",
            "\n",
            "     Parch            Ticket     Fare Cabin  Embarked  \n",
            "0        0         A/5 21171   7.2500   NaN         2  \n",
            "1        0          PC 17599  71.2833   C85         0  \n",
            "2        0  STON/O2. 3101282   7.9250   NaN         2  \n",
            "3        0            113803  53.1000  C123         2  \n",
            "4        0            373450   8.0500   NaN         2  \n",
            "..     ...               ...      ...   ...       ...  \n",
            "886      0            211536  13.0000   NaN         2  \n",
            "887      0            112053  30.0000   B42         2  \n",
            "888      2        W./C. 6607  23.4500   NaN         2  \n",
            "889      0            111369  30.0000  C148         0  \n",
            "890      0            370376   7.7500   NaN         1  \n",
            "\n",
            "[891 rows x 12 columns]\n",
            "     PassengerId  Pclass                                          Name  Sex  \\\n",
            "0            892       3                              Kelly, Mr. James    1   \n",
            "1            893       3              Wilkes, Mrs. James (Ellen Needs)    0   \n",
            "2            894       2                     Myles, Mr. Thomas Francis    1   \n",
            "3            895       3                              Wirz, Mr. Albert    1   \n",
            "4            896       3  Hirvonen, Mrs. Alexander (Helga E Lindqvist)    0   \n",
            "..           ...     ...                                           ...  ...   \n",
            "413         1305       3                            Spector, Mr. Woolf    1   \n",
            "414         1306       1                  Oliva y Ocana, Dona. Fermina    0   \n",
            "415         1307       3                  Saether, Mr. Simon Sivertsen    1   \n",
            "416         1308       3                           Ware, Mr. Frederick    1   \n",
            "417         1309       3                      Peter, Master. Michael J    1   \n",
            "\n",
            "           Age  SibSp  Parch              Ticket      Fare Cabin  Embarked  \n",
            "0    34.500000      0      0              330911    7.8292   NaN         1  \n",
            "1    47.000000      1      0              363272    7.0000   NaN         2  \n",
            "2    62.000000      0      0              240276    9.6875   NaN         1  \n",
            "3    27.000000      0      0              315154    8.6625   NaN         2  \n",
            "4    22.000000      1      1             3101298   12.2875   NaN         2  \n",
            "..         ...    ...    ...                 ...       ...   ...       ...  \n",
            "413  29.699118      0      0           A.5. 3236    8.0500   NaN         2  \n",
            "414  39.000000      0      0            PC 17758  108.9000  C105         0  \n",
            "415  38.500000      0      0  SOTON/O.Q. 3101262    7.2500   NaN         2  \n",
            "416  29.699118      0      0              359309    8.0500   NaN         2  \n",
            "417  29.699118      1      1                2668   22.3583   NaN         0  \n",
            "\n",
            "[418 rows x 11 columns]\n"
          ]
        }
      ]
    },
    {
      "cell_type": "code",
      "source": [
        "X_train = train_data[[\"Pclass\", \"Sex\", \"Age\", \"SibSp\", \"Parch\", \"Fare\", \"Embarked\"]]\n",
        "y_train = train_data[\"Survived\"]\n",
        "logreg = LogisticRegression()\n",
        "logreg.fit(X_train, y_train)"
      ],
      "metadata": {
        "colab": {
          "base_uri": "https://localhost:8080/",
          "height": 75
        },
        "id": "uYXLuYIvI2b7",
        "outputId": "24bb4431-621f-424d-e45f-fc78b3d52f4a"
      },
      "execution_count": 12,
      "outputs": [
        {
          "output_type": "execute_result",
          "data": {
            "text/plain": [
              "LogisticRegression()"
            ],
            "text/html": [
              "<style>#sk-container-id-1 {color: black;background-color: white;}#sk-container-id-1 pre{padding: 0;}#sk-container-id-1 div.sk-toggleable {background-color: white;}#sk-container-id-1 label.sk-toggleable__label {cursor: pointer;display: block;width: 100%;margin-bottom: 0;padding: 0.3em;box-sizing: border-box;text-align: center;}#sk-container-id-1 label.sk-toggleable__label-arrow:before {content: \"▸\";float: left;margin-right: 0.25em;color: #696969;}#sk-container-id-1 label.sk-toggleable__label-arrow:hover:before {color: black;}#sk-container-id-1 div.sk-estimator:hover label.sk-toggleable__label-arrow:before {color: black;}#sk-container-id-1 div.sk-toggleable__content {max-height: 0;max-width: 0;overflow: hidden;text-align: left;background-color: #f0f8ff;}#sk-container-id-1 div.sk-toggleable__content pre {margin: 0.2em;color: black;border-radius: 0.25em;background-color: #f0f8ff;}#sk-container-id-1 input.sk-toggleable__control:checked~div.sk-toggleable__content {max-height: 200px;max-width: 100%;overflow: auto;}#sk-container-id-1 input.sk-toggleable__control:checked~label.sk-toggleable__label-arrow:before {content: \"▾\";}#sk-container-id-1 div.sk-estimator input.sk-toggleable__control:checked~label.sk-toggleable__label {background-color: #d4ebff;}#sk-container-id-1 div.sk-label input.sk-toggleable__control:checked~label.sk-toggleable__label {background-color: #d4ebff;}#sk-container-id-1 input.sk-hidden--visually {border: 0;clip: rect(1px 1px 1px 1px);clip: rect(1px, 1px, 1px, 1px);height: 1px;margin: -1px;overflow: hidden;padding: 0;position: absolute;width: 1px;}#sk-container-id-1 div.sk-estimator {font-family: monospace;background-color: #f0f8ff;border: 1px dotted black;border-radius: 0.25em;box-sizing: border-box;margin-bottom: 0.5em;}#sk-container-id-1 div.sk-estimator:hover {background-color: #d4ebff;}#sk-container-id-1 div.sk-parallel-item::after {content: \"\";width: 100%;border-bottom: 1px solid gray;flex-grow: 1;}#sk-container-id-1 div.sk-label:hover label.sk-toggleable__label {background-color: #d4ebff;}#sk-container-id-1 div.sk-serial::before {content: \"\";position: absolute;border-left: 1px solid gray;box-sizing: border-box;top: 0;bottom: 0;left: 50%;z-index: 0;}#sk-container-id-1 div.sk-serial {display: flex;flex-direction: column;align-items: center;background-color: white;padding-right: 0.2em;padding-left: 0.2em;position: relative;}#sk-container-id-1 div.sk-item {position: relative;z-index: 1;}#sk-container-id-1 div.sk-parallel {display: flex;align-items: stretch;justify-content: center;background-color: white;position: relative;}#sk-container-id-1 div.sk-item::before, #sk-container-id-1 div.sk-parallel-item::before {content: \"\";position: absolute;border-left: 1px solid gray;box-sizing: border-box;top: 0;bottom: 0;left: 50%;z-index: -1;}#sk-container-id-1 div.sk-parallel-item {display: flex;flex-direction: column;z-index: 1;position: relative;background-color: white;}#sk-container-id-1 div.sk-parallel-item:first-child::after {align-self: flex-end;width: 50%;}#sk-container-id-1 div.sk-parallel-item:last-child::after {align-self: flex-start;width: 50%;}#sk-container-id-1 div.sk-parallel-item:only-child::after {width: 0;}#sk-container-id-1 div.sk-dashed-wrapped {border: 1px dashed gray;margin: 0 0.4em 0.5em 0.4em;box-sizing: border-box;padding-bottom: 0.4em;background-color: white;}#sk-container-id-1 div.sk-label label {font-family: monospace;font-weight: bold;display: inline-block;line-height: 1.2em;}#sk-container-id-1 div.sk-label-container {text-align: center;}#sk-container-id-1 div.sk-container {/* jupyter's `normalize.less` sets `[hidden] { display: none; }` but bootstrap.min.css set `[hidden] { display: none !important; }` so we also need the `!important` here to be able to override the default hidden behavior on the sphinx rendered scikit-learn.org. See: https://github.com/scikit-learn/scikit-learn/issues/21755 */display: inline-block !important;position: relative;}#sk-container-id-1 div.sk-text-repr-fallback {display: none;}</style><div id=\"sk-container-id-1\" class=\"sk-top-container\"><div class=\"sk-text-repr-fallback\"><pre>LogisticRegression()</pre><b>In a Jupyter environment, please rerun this cell to show the HTML representation or trust the notebook. <br />On GitHub, the HTML representation is unable to render, please try loading this page with nbviewer.org.</b></div><div class=\"sk-container\" hidden><div class=\"sk-item\"><div class=\"sk-estimator sk-toggleable\"><input class=\"sk-toggleable__control sk-hidden--visually\" id=\"sk-estimator-id-1\" type=\"checkbox\" checked><label for=\"sk-estimator-id-1\" class=\"sk-toggleable__label sk-toggleable__label-arrow\">LogisticRegression</label><div class=\"sk-toggleable__content\"><pre>LogisticRegression()</pre></div></div></div></div></div>"
            ]
          },
          "metadata": {},
          "execution_count": 12
        }
      ]
    },
    {
      "cell_type": "code",
      "source": [
        "print(\"Coefficients:\", logreg.coef_)\n",
        "print(\"Intercept:\", logreg.intercept_)"
      ],
      "metadata": {
        "colab": {
          "base_uri": "https://localhost:8080/"
        },
        "id": "-gi24xpeJGya",
        "outputId": "79fe8762-7fc9-4358-851b-4a8c021abc26"
      },
      "execution_count": 13,
      "outputs": [
        {
          "output_type": "stream",
          "name": "stdout",
          "text": [
            "Coefficients: [[-1.04883131e+00 -2.63145315e+00 -3.84935949e-02 -3.17670521e-01\n",
            "  -9.01413391e-02  2.13983603e-03 -2.19556715e-01]]\n",
            "Intercept: [5.09924802]\n"
          ]
        }
      ]
    },
    {
      "cell_type": "code",
      "source": [
        "train_data[\"Age\"].fillna(train_data[\"Age\"].mean(), inplace=True)"
      ],
      "metadata": {
        "id": "PeAsfOBl8m_g"
      },
      "execution_count": 24,
      "outputs": []
    },
    {
      "cell_type": "code",
      "source": [
        "X_age_train = train_data[[\"Pclass\", \"Sex\", \"SibSp\", \"Parch\", \"Fare\", \"Embarked\"]]\n",
        "y_age_train = train_data[\"Age\"]\n",
        "linreg = LinearRegression()\n",
        "linreg.fit(X_age_train, y_age_train)"
      ],
      "metadata": {
        "colab": {
          "base_uri": "https://localhost:8080/",
          "height": 75
        },
        "id": "vBmU-7QB79ZK",
        "outputId": "bccfa8d1-e8b8-4bd4-a5a0-38975fd70ee4"
      },
      "execution_count": 25,
      "outputs": [
        {
          "output_type": "execute_result",
          "data": {
            "text/plain": [
              "LinearRegression()"
            ],
            "text/html": [
              "<style>#sk-container-id-2 {color: black;background-color: white;}#sk-container-id-2 pre{padding: 0;}#sk-container-id-2 div.sk-toggleable {background-color: white;}#sk-container-id-2 label.sk-toggleable__label {cursor: pointer;display: block;width: 100%;margin-bottom: 0;padding: 0.3em;box-sizing: border-box;text-align: center;}#sk-container-id-2 label.sk-toggleable__label-arrow:before {content: \"▸\";float: left;margin-right: 0.25em;color: #696969;}#sk-container-id-2 label.sk-toggleable__label-arrow:hover:before {color: black;}#sk-container-id-2 div.sk-estimator:hover label.sk-toggleable__label-arrow:before {color: black;}#sk-container-id-2 div.sk-toggleable__content {max-height: 0;max-width: 0;overflow: hidden;text-align: left;background-color: #f0f8ff;}#sk-container-id-2 div.sk-toggleable__content pre {margin: 0.2em;color: black;border-radius: 0.25em;background-color: #f0f8ff;}#sk-container-id-2 input.sk-toggleable__control:checked~div.sk-toggleable__content {max-height: 200px;max-width: 100%;overflow: auto;}#sk-container-id-2 input.sk-toggleable__control:checked~label.sk-toggleable__label-arrow:before {content: \"▾\";}#sk-container-id-2 div.sk-estimator input.sk-toggleable__control:checked~label.sk-toggleable__label {background-color: #d4ebff;}#sk-container-id-2 div.sk-label input.sk-toggleable__control:checked~label.sk-toggleable__label {background-color: #d4ebff;}#sk-container-id-2 input.sk-hidden--visually {border: 0;clip: rect(1px 1px 1px 1px);clip: rect(1px, 1px, 1px, 1px);height: 1px;margin: -1px;overflow: hidden;padding: 0;position: absolute;width: 1px;}#sk-container-id-2 div.sk-estimator {font-family: monospace;background-color: #f0f8ff;border: 1px dotted black;border-radius: 0.25em;box-sizing: border-box;margin-bottom: 0.5em;}#sk-container-id-2 div.sk-estimator:hover {background-color: #d4ebff;}#sk-container-id-2 div.sk-parallel-item::after {content: \"\";width: 100%;border-bottom: 1px solid gray;flex-grow: 1;}#sk-container-id-2 div.sk-label:hover label.sk-toggleable__label {background-color: #d4ebff;}#sk-container-id-2 div.sk-serial::before {content: \"\";position: absolute;border-left: 1px solid gray;box-sizing: border-box;top: 0;bottom: 0;left: 50%;z-index: 0;}#sk-container-id-2 div.sk-serial {display: flex;flex-direction: column;align-items: center;background-color: white;padding-right: 0.2em;padding-left: 0.2em;position: relative;}#sk-container-id-2 div.sk-item {position: relative;z-index: 1;}#sk-container-id-2 div.sk-parallel {display: flex;align-items: stretch;justify-content: center;background-color: white;position: relative;}#sk-container-id-2 div.sk-item::before, #sk-container-id-2 div.sk-parallel-item::before {content: \"\";position: absolute;border-left: 1px solid gray;box-sizing: border-box;top: 0;bottom: 0;left: 50%;z-index: -1;}#sk-container-id-2 div.sk-parallel-item {display: flex;flex-direction: column;z-index: 1;position: relative;background-color: white;}#sk-container-id-2 div.sk-parallel-item:first-child::after {align-self: flex-end;width: 50%;}#sk-container-id-2 div.sk-parallel-item:last-child::after {align-self: flex-start;width: 50%;}#sk-container-id-2 div.sk-parallel-item:only-child::after {width: 0;}#sk-container-id-2 div.sk-dashed-wrapped {border: 1px dashed gray;margin: 0 0.4em 0.5em 0.4em;box-sizing: border-box;padding-bottom: 0.4em;background-color: white;}#sk-container-id-2 div.sk-label label {font-family: monospace;font-weight: bold;display: inline-block;line-height: 1.2em;}#sk-container-id-2 div.sk-label-container {text-align: center;}#sk-container-id-2 div.sk-container {/* jupyter's `normalize.less` sets `[hidden] { display: none; }` but bootstrap.min.css set `[hidden] { display: none !important; }` so we also need the `!important` here to be able to override the default hidden behavior on the sphinx rendered scikit-learn.org. See: https://github.com/scikit-learn/scikit-learn/issues/21755 */display: inline-block !important;position: relative;}#sk-container-id-2 div.sk-text-repr-fallback {display: none;}</style><div id=\"sk-container-id-2\" class=\"sk-top-container\"><div class=\"sk-text-repr-fallback\"><pre>LinearRegression()</pre><b>In a Jupyter environment, please rerun this cell to show the HTML representation or trust the notebook. <br />On GitHub, the HTML representation is unable to render, please try loading this page with nbviewer.org.</b></div><div class=\"sk-container\" hidden><div class=\"sk-item\"><div class=\"sk-estimator sk-toggleable\"><input class=\"sk-toggleable__control sk-hidden--visually\" id=\"sk-estimator-id-2\" type=\"checkbox\" checked><label for=\"sk-estimator-id-2\" class=\"sk-toggleable__label sk-toggleable__label-arrow\">LinearRegression</label><div class=\"sk-toggleable__content\"><pre>LinearRegression()</pre></div></div></div></div></div>"
            ]
          },
          "metadata": {},
          "execution_count": 25
        }
      ]
    },
    {
      "cell_type": "code",
      "source": [
        "print(\"Coefficients:\", linreg.coef_)\n",
        "print(\"Intercept:\", linreg.intercept_)"
      ],
      "metadata": {
        "colab": {
          "base_uri": "https://localhost:8080/"
        },
        "id": "z2f63W--8Evw",
        "outputId": "7ba5b21d-3763-4f66-cfd6-b66ddd5ba725"
      },
      "execution_count": 27,
      "outputs": [
        {
          "output_type": "stream",
          "name": "stdout",
          "text": [
            "Coefficients: [-5.50321278  2.25940913 -1.84160379 -1.29362069 -0.0101831   0.48440402]\n",
            "Intercept: 41.98028876875242\n"
          ]
        }
      ]
    },
    {
      "cell_type": "code",
      "source": [
        "y_pred = linreg.predict(X_age_train)"
      ],
      "metadata": {
        "id": "VnNM1rop9OSx"
      },
      "execution_count": 31,
      "outputs": []
    },
    {
      "cell_type": "code",
      "source": [
        "print(y_pred)"
      ],
      "metadata": {
        "colab": {
          "base_uri": "https://localhost:8080/"
        },
        "id": "JffuJvzN9QOC",
        "outputId": "ebc3c250-7077-41a4-af0f-7cc4592b1fa7"
      },
      "execution_count": 29,
      "outputs": [
        {
          "output_type": "stream",
          "name": "stdout",
          "text": [
            "[26.78343633 33.90958722 26.3587574  35.06355762 28.61689364 28.12833187\n",
            " 39.17717213 21.6658267  23.73884557 28.82604545 23.13417621 37.17552272\n",
            " 28.61689364 20.07068388 26.35947836 31.77974164 19.25784493 34.06970008\n",
            " 24.41455887 25.39707753 33.93731978 34.06970008 25.8732923  39.3437931\n",
            " 19.40641756 17.81012915 27.65648667 28.91508507 25.87481977 28.61846388\n",
            " 38.45420144 33.14343623 25.87613542 34.09515783 36.05812785 37.33416816\n",
            " 27.6564439  28.61689364 22.57295508 23.51457128 24.5013698  29.88722235\n",
            " 27.64965584 26.12161287 25.87481977 28.61689364 26.21502174 25.87613542\n",
            " 23.82609052 24.41659549 19.63468996 28.61943942 33.85413107 29.83630685\n",
            " 36.81172403 39.3437931  31.83574869 27.6564439  27.23124504 16.42601986\n",
            " 27.6564439  37.11564003 37.01365509 20.30270634 38.45420144 24.43958557\n",
            " 31.83574869 28.61579081 16.40510084 24.92744891 34.09515783 14.16661073\n",
            " 33.45362252 25.74126721 28.12356521 28.62096688 28.61846388 28.61689364\n",
            " 31.31952909 26.31242429 28.6072197  28.60212815 25.87575356 39.22566914\n",
            " 31.83574869 20.75324496 22.62635766 28.61689364 26.65567593 28.61689364\n",
            " 28.61689364 28.6188875  37.24073822 24.06050513 28.62504012 28.61689364\n",
            " 38.38359794 36.79768052 30.41483925 32.09571599 26.35905474 28.61846388\n",
            " 37.62464611 28.61074102 24.93495895 28.61846388 26.36155775 28.619694\n",
            " 28.61846388 23.86752879 39.17577195 23.48185808 28.61689364 24.49780572\n",
            " 25.32342012 28.61816653 28.13554456 32.14663149 34.92233535 16.16732546\n",
            " 29.77041494 28.61689364 31.08545459 31.81029094 37.62464611 25.77398042\n",
            " 28.13554456 28.62614295 22.10774914 28.62784048 27.64965584 28.62707674\n",
            " 24.45019972 29.83630685 34.06970008 33.08005946 34.59099716 37.32296675\n",
            " 28.60501302 37.9299836  22.72815953 26.36053944 24.43645254 28.14572766\n",
            " 34.08497473 30.69262696 28.61948219 19.81896543 31.35007839 34.06970008\n",
            " 34.07453705 34.92608577 28.61689364 25.96397126 28.62440368 36.81783389\n",
            " 25.87630548 28.61689364 28.6106565  10.67056127 27.24129899 31.78228742\n",
            " 28.619694   28.6106565  19.63468996 25.90261808 35.59219282 19.1392634\n",
            " 39.44129629 28.12356521 39.3641593  19.25784493 23.19086247 28.61816653\n",
            " 38.42390672 25.48366301 21.62110558 36.18469373 34.06970008 28.6988676\n",
            "  8.41115214 33.08001669 18.42558899 28.8281112  23.6279343  39.19613815\n",
            " 23.95561261 39.43493185 24.92140105 28.61846388 31.81029094 34.06970008\n",
            " 24.51787457 30.80209529 36.19479231 34.98504002 28.13554456 27.3196661\n",
            " 25.87613542 31.81029094 28.60212815 10.67056127 28.63272022 27.65648667\n",
            " 28.61689364 25.03929709 26.69586167 27.53874457 25.87613542 38.42080902\n",
            " 28.62707674 31.72882614 28.62504012 34.06970008 26.29394077 33.48198153\n",
            " 26.3587574  32.08553289 35.70018997 34.09515783 28.61689364 34.06970008\n",
            " 28.61689364 28.61846388 36.94721036 28.60365561 34.09515783 28.62504012\n",
            " 34.06970008 19.36169644 34.75424595 28.619694   34.06460853 16.16617986\n",
            " 34.09515783 26.36257606 32.09571599 29.08812348 34.09515783 34.07708283\n",
            " 23.48185808 23.95561261 34.09515783 28.62631301 27.65648667 34.62120255\n",
            " 26.36028486 29.2077749  36.03490399 32.09571599 28.62504012 23.1976933\n",
            " 39.43493185 26.6933159  23.64639117 22.72815953 35.67057446 36.56504587\n",
            " 31.25997646 30.38428995 28.13554456 18.42558899 35.75898475 39.70529316\n",
            " 25.87613542 34.09515783 19.63468996 26.77809021 34.58953933 36.06471655\n",
            " 39.38961706 28.6988676  30.4504801  37.14042636 25.87613542 34.81042306\n",
            " 26.36053944 34.20208038 19.25784493 23.0980262  28.13554456 28.6188875\n",
            " 28.60212815 28.61689364 39.44053256 27.64184846 28.60212815 28.61846388\n",
            " 34.06970008 25.87613542 36.64294658 33.70800359 33.10216493 26.34933803\n",
            " 28.61846388 38.45420144 27.6564439  31.47379002 39.39470861 32.66292621\n",
            " 25.87613542 24.29449892 28.6988676  31.33250594 28.61689364 33.73319916\n",
            " 35.34794025 33.5265326  31.14727415 35.89736025 35.6302667  27.53483613\n",
            " 28.54268616 28.61846388 30.79954952 26.35947836 29.83630685 34.05951698\n",
            " 33.17978852 31.97222454 28.62504012 28.61846388 31.33250594 28.51213686\n",
            " 10.67056127 35.09590852 28.63535051 31.81029094 23.09522585 34.5930473\n",
            " 22.03508979 39.41507481 36.84894846 24.83236422 34.2433089  28.61846388\n",
            " 37.1854949  35.10744903 28.61689364 39.3437931  30.80209529 26.65567593\n",
            " 34.06970008 34.06970008 34.06970008 31.81029094 31.81029094 24.43390676\n",
            " 25.40173182 28.6106565  28.6049285  39.34888465 24.52121941 26.67600463\n",
            " 27.65648667 28.60212815 35.59219282 31.81029094 25.87481977 25.87481977\n",
            " 21.39867254 31.10938487 24.02984117 28.62707674 26.21502174 28.62504012\n",
            " 33.86919392 25.39703476 25.87613542 35.77138715 36.33031295 26.79111643\n",
            " 28.61689364 37.35531765 19.40641756 33.79871872 26.36563099 33.99551806\n",
            " 27.68919988 28.619694   34.16016614 22.72310974 28.61816653 35.07475903\n",
            " 28.61846388 33.45362252 16.42601986 31.81029094 28.13575637 30.85166601\n",
            " 34.05447597 28.61948219 24.93495895 33.48198153 23.6821593  28.61948219\n",
            " 26.35947836 33.93731978 34.09515783 31.81385503 28.61816653 28.61689364\n",
            " 24.49780572 26.69586167 26.35124736 32.14663149 28.61994857 30.87592277\n",
            " 28.619694   19.36169644 28.61846388 28.14462483 34.20339721 34.20208038\n",
            " 28.61816653 26.35748451 28.47649601 29.22304955 34.06970008 23.60629521\n",
            " 27.64965584 28.13571462 28.61867569 23.15759734 25.3578172  28.62504012\n",
            " 29.83630685 31.67791064 28.13554456 28.61689364 39.43493185 24.43390676\n",
            " 29.83630685 28.62631301 37.29445407 31.79506683 19.81896543 24.18766845\n",
            " 30.01105126 34.09515783 28.54014038 28.60212815 26.77809021 31.81029094\n",
            " 28.6162572  36.28448051 30.4504801  39.43493185 20.29771296 39.39470861\n",
            " 29.49065417 26.6539409  38.4539041  35.98752435 28.61689364 27.64965584\n",
            " 39.43493185 35.0761592  31.83574869 28.13554456 39.43493185 28.61689364\n",
            " 39.3132438  34.06970008 28.61689364 28.62707674 34.20208038 39.43493185\n",
            " 28.13579913 20.29771296 28.62504012 28.6106565  27.23124504 30.83342095\n",
            " 26.33928222 39.17577195 32.14663149 26.78551572 28.62228254 25.02071293\n",
            " 16.42601986 34.20208038 28.61689364 26.34182799 35.96741272 19.36169644\n",
            " 34.68780122 38.43404705 28.61689364 25.40173182 26.6539409  28.62504012\n",
            " 39.39470861 38.2323789  28.61689364 27.58282925 33.83847456 28.54510279\n",
            " 31.47379002 28.61948219 28.6106565  25.87613542 25.87736554 26.34182799\n",
            " 36.56504587 35.78594173 29.09066925 39.43493185 28.46949327 28.12356521\n",
            " 28.13554456 28.61689364 39.43760491 34.03059605 28.62253712 39.35885595\n",
            " 31.83574869 27.96854172 29.83630685 28.61846388 36.49376416 28.61846388\n",
            " 27.65648667 34.5930473  27.6564439  28.13554456 31.83574869 37.44689336\n",
            " 28.61816653 29.10814645 28.54268616 27.6564439  24.52121941 22.65573223\n",
            " 26.35124736 29.08812348 39.43493185 35.39333956 28.55121265 33.38577115\n",
            " 34.13564253 16.16732546 16.16732546 32.09571599 35.8111449  39.44053256\n",
            " 29.83630685 33.09210912 25.35463498 30.69262696 35.02010799 33.93731978\n",
            " 28.13473806 27.65648667 26.36028486 39.43493185 34.23222143 36.41957527\n",
            " 33.49957562 24.42066873 28.13554456 28.61846388 34.06460853 28.61689364\n",
            " 26.35748451 24.76973815 28.61846388 21.05036685 27.6564439  28.6188875\n",
            " 34.09515783 33.2384586  39.4365866  25.87613542 28.61689364 28.55121265\n",
            " 31.81029094 35.03504494 23.48181632 28.61816653 28.50195376 32.21271576\n",
            " 33.93731978 38.32788823 27.64133931 34.04755871 34.04933388 34.79475911\n",
            " 28.61689364 28.61689364 28.62631301 33.83847456 28.62504012 23.28889403\n",
            " 32.09571599 25.31772125 31.60662894 28.6988676  27.65648667 36.31516559\n",
            " 26.69089927 28.61846388 39.27352971 28.61689364 38.46612382 26.6989166\n",
            " 28.61846388 39.39470861 26.12161287 35.88316002 17.81127474 28.62707674\n",
            " 23.95561261 28.13554456 28.61689364 26.85192456 25.41700647 24.43390676\n",
            " 26.56870206 34.09515783 25.74126721 37.32852469 24.43453577 28.6188875\n",
            " 28.53491969 39.37616722 33.59191508 36.65202685 28.61846388 28.13571462\n",
            " 39.39980016 28.62703398 38.42590057 39.70529316 18.04329721 31.81029094\n",
            " 28.61816653 30.79954952 19.56721321 26.6933159  28.6188875  35.77138715\n",
            " 18.04329721 28.12356521 20.29771296 36.11354021 28.61846388 38.37498507\n",
            " 28.62198519 26.36257606 28.61846388 30.41483925 28.61299046 25.87532892\n",
            " 25.88631852 29.77041494 28.61846388 22.66199191 34.06970008 34.99575307\n",
            " 34.66111425 27.65648667 39.44473308 28.62253712 26.77656274 29.77041494\n",
            " 34.06970008 28.619694   28.61689364 35.07475903 28.41030586 37.33416816\n",
            " 34.09515783 34.06970008 34.20208038 28.619694   28.61689364 26.33923945\n",
            " 16.35854311 32.2257649  25.87218947 37.955144   28.6049285  16.42601986\n",
            " 30.66971499 28.38102201 19.63468996 28.59529733 28.61948219 34.00019241\n",
            " 37.28325266 24.04040614 28.12356521 27.65648667 39.43493185 34.06460853\n",
            " 28.61689364 25.87630548 34.47212489 28.62096688 32.31856235 39.43760491\n",
            " 24.02984117 28.13562908 26.7772837  33.93731978 31.80519939 39.43760491\n",
            " 35.9026352  24.43958557 35.97296977 39.43493185 37.33416816 28.60229821\n",
            " 34.06970008 28.62096688 34.16016614 31.83574869 28.05662553 28.619694\n",
            " 30.31300825 26.78543018 34.06970008 34.06970008 37.32296675 28.6106565\n",
            " 26.20401477 25.87626271 32.09571599 24.51715361 35.29381311 27.53874457\n",
            " 34.20208038 34.06970008 34.06970008 28.53491969 20.36694852 33.5193856\n",
            " 28.61846388 28.61846388 39.39980016 37.06075192 27.53483613 26.6933159\n",
            " 28.61816653 35.84706857 25.35743534 31.81029094 37.32296675 28.13554456\n",
            " 28.57323546 27.27821273 28.60212815 28.61846388 26.85192456 30.91920094\n",
            " 28.61948219 34.08497473 28.61689364 36.56504587 28.55121265 28.62631301\n",
            " 27.6564439  31.79506683 28.619694   34.81042306 38.33323436 25.87613542\n",
            " 26.12693792 28.61371143 28.60212815 28.6188875  31.83574869 27.65648667\n",
            " 25.98599407 28.61994857 28.13554456 26.31242429 28.13567185 34.00019241\n",
            " 25.39703476 35.02384353 39.39980016 24.03122872 28.62707674 28.62504012\n",
            " 26.36312798 19.25784493 24.06050513 37.9299836  28.13554456 33.93731978\n",
            "  8.41115214 38.42390672 28.61846388 34.06970008 37.18184438 26.35103555\n",
            " 27.6564439  23.05831211 34.06970008 28.54014038 34.05447597 26.34971246\n",
            " 28.62784048 28.619694   39.70529316 26.36028486 34.06970008 35.06355762\n",
            " 28.6185484  28.45294573 34.09515783 16.16732546 28.61689364 39.70529316\n",
            " 26.3587574  29.72123039 28.6331866  20.30270634 33.35853968 28.6106565\n",
            " 39.70529316 25.0188036  19.63468996 28.14369104 28.12356521 30.26921348\n",
            " 28.13554456 37.11564003 23.48185808 30.87592277 27.6564439  28.6188875\n",
            " 28.61434787 32.49504221 28.6106565  28.61689364 28.12356521 38.43404705\n",
            " 28.61816653 34.09515783 36.16139989 27.66450586 28.6106565  28.62198519\n",
            " 10.67056127 27.64965584 32.57241738 33.72811521 18.42673459 28.619694\n",
            " 22.18017644 35.75104918 29.83630685 25.05062578 32.63180543 39.43493185\n",
            " 21.39367915 27.6564439  24.87199379 32.24337094 37.18184438  8.41115214\n",
            " 34.06970008 31.81029094 28.99113896 39.19108937 28.60212815 25.45027161\n",
            " 28.61846388 33.77549486 39.65437766 28.6072197  28.88786502 25.39707753\n",
            " 28.59860683 28.61846388 28.61846388 34.336646   30.38428995 28.61846388\n",
            " 26.33236586 34.09515783 28.62707674 19.19036818 34.06970008 37.14039102\n",
            " 21.77181959 38.43099212 28.13554456]\n"
          ]
        }
      ]
    },
    {
      "cell_type": "code",
      "source": [
        "X_embarked_train = train_data[[\"Pclass\", \"Sex\", \"Age\", \"SibSp\", \"Parch\", \"Fare\"]]\n",
        "y_embarked_train = train_data[\"Embarked\"]\n",
        "knn = KNeighborsClassifier()\n",
        "knn.fit(X_embarked_train, y_embarked_train)"
      ],
      "metadata": {
        "colab": {
          "base_uri": "https://localhost:8080/",
          "height": 75
        },
        "id": "5a6mvr1wAI4H",
        "outputId": "ce15d669-7973-4b33-bc7c-1d48af65fff0"
      },
      "execution_count": 32,
      "outputs": [
        {
          "output_type": "execute_result",
          "data": {
            "text/plain": [
              "KNeighborsClassifier()"
            ],
            "text/html": [
              "<style>#sk-container-id-3 {color: black;background-color: white;}#sk-container-id-3 pre{padding: 0;}#sk-container-id-3 div.sk-toggleable {background-color: white;}#sk-container-id-3 label.sk-toggleable__label {cursor: pointer;display: block;width: 100%;margin-bottom: 0;padding: 0.3em;box-sizing: border-box;text-align: center;}#sk-container-id-3 label.sk-toggleable__label-arrow:before {content: \"▸\";float: left;margin-right: 0.25em;color: #696969;}#sk-container-id-3 label.sk-toggleable__label-arrow:hover:before {color: black;}#sk-container-id-3 div.sk-estimator:hover label.sk-toggleable__label-arrow:before {color: black;}#sk-container-id-3 div.sk-toggleable__content {max-height: 0;max-width: 0;overflow: hidden;text-align: left;background-color: #f0f8ff;}#sk-container-id-3 div.sk-toggleable__content pre {margin: 0.2em;color: black;border-radius: 0.25em;background-color: #f0f8ff;}#sk-container-id-3 input.sk-toggleable__control:checked~div.sk-toggleable__content {max-height: 200px;max-width: 100%;overflow: auto;}#sk-container-id-3 input.sk-toggleable__control:checked~label.sk-toggleable__label-arrow:before {content: \"▾\";}#sk-container-id-3 div.sk-estimator input.sk-toggleable__control:checked~label.sk-toggleable__label {background-color: #d4ebff;}#sk-container-id-3 div.sk-label input.sk-toggleable__control:checked~label.sk-toggleable__label {background-color: #d4ebff;}#sk-container-id-3 input.sk-hidden--visually {border: 0;clip: rect(1px 1px 1px 1px);clip: rect(1px, 1px, 1px, 1px);height: 1px;margin: -1px;overflow: hidden;padding: 0;position: absolute;width: 1px;}#sk-container-id-3 div.sk-estimator {font-family: monospace;background-color: #f0f8ff;border: 1px dotted black;border-radius: 0.25em;box-sizing: border-box;margin-bottom: 0.5em;}#sk-container-id-3 div.sk-estimator:hover {background-color: #d4ebff;}#sk-container-id-3 div.sk-parallel-item::after {content: \"\";width: 100%;border-bottom: 1px solid gray;flex-grow: 1;}#sk-container-id-3 div.sk-label:hover label.sk-toggleable__label {background-color: #d4ebff;}#sk-container-id-3 div.sk-serial::before {content: \"\";position: absolute;border-left: 1px solid gray;box-sizing: border-box;top: 0;bottom: 0;left: 50%;z-index: 0;}#sk-container-id-3 div.sk-serial {display: flex;flex-direction: column;align-items: center;background-color: white;padding-right: 0.2em;padding-left: 0.2em;position: relative;}#sk-container-id-3 div.sk-item {position: relative;z-index: 1;}#sk-container-id-3 div.sk-parallel {display: flex;align-items: stretch;justify-content: center;background-color: white;position: relative;}#sk-container-id-3 div.sk-item::before, #sk-container-id-3 div.sk-parallel-item::before {content: \"\";position: absolute;border-left: 1px solid gray;box-sizing: border-box;top: 0;bottom: 0;left: 50%;z-index: -1;}#sk-container-id-3 div.sk-parallel-item {display: flex;flex-direction: column;z-index: 1;position: relative;background-color: white;}#sk-container-id-3 div.sk-parallel-item:first-child::after {align-self: flex-end;width: 50%;}#sk-container-id-3 div.sk-parallel-item:last-child::after {align-self: flex-start;width: 50%;}#sk-container-id-3 div.sk-parallel-item:only-child::after {width: 0;}#sk-container-id-3 div.sk-dashed-wrapped {border: 1px dashed gray;margin: 0 0.4em 0.5em 0.4em;box-sizing: border-box;padding-bottom: 0.4em;background-color: white;}#sk-container-id-3 div.sk-label label {font-family: monospace;font-weight: bold;display: inline-block;line-height: 1.2em;}#sk-container-id-3 div.sk-label-container {text-align: center;}#sk-container-id-3 div.sk-container {/* jupyter's `normalize.less` sets `[hidden] { display: none; }` but bootstrap.min.css set `[hidden] { display: none !important; }` so we also need the `!important` here to be able to override the default hidden behavior on the sphinx rendered scikit-learn.org. See: https://github.com/scikit-learn/scikit-learn/issues/21755 */display: inline-block !important;position: relative;}#sk-container-id-3 div.sk-text-repr-fallback {display: none;}</style><div id=\"sk-container-id-3\" class=\"sk-top-container\"><div class=\"sk-text-repr-fallback\"><pre>KNeighborsClassifier()</pre><b>In a Jupyter environment, please rerun this cell to show the HTML representation or trust the notebook. <br />On GitHub, the HTML representation is unable to render, please try loading this page with nbviewer.org.</b></div><div class=\"sk-container\" hidden><div class=\"sk-item\"><div class=\"sk-estimator sk-toggleable\"><input class=\"sk-toggleable__control sk-hidden--visually\" id=\"sk-estimator-id-3\" type=\"checkbox\" checked><label for=\"sk-estimator-id-3\" class=\"sk-toggleable__label sk-toggleable__label-arrow\">KNeighborsClassifier</label><div class=\"sk-toggleable__content\"><pre>KNeighborsClassifier()</pre></div></div></div></div></div>"
            ]
          },
          "metadata": {},
          "execution_count": 32
        }
      ]
    },
    {
      "cell_type": "code",
      "source": [
        "test_data_copy = test_data.copy()"
      ],
      "metadata": {
        "id": "Nb1o-jdoCcC8"
      },
      "execution_count": 39,
      "outputs": []
    },
    {
      "cell_type": "code",
      "source": [
        "from sklearn.preprocessing import LabelEncoder\n",
        "\n",
        "label_encoder = LabelEncoder()\n",
        "test_data[\"Sex\"] = label_encoder.fit_transform(test_data[\"Sex\"])\n",
        "test_data[\"Embarked\"] = label_encoder.fit_transform(test_data[\"Embarked\"])"
      ],
      "metadata": {
        "id": "Lr4TlIQOKSHd"
      },
      "execution_count": 71,
      "outputs": []
    },
    {
      "cell_type": "code",
      "source": [
        "print(X_test.columns)"
      ],
      "metadata": {
        "colab": {
          "base_uri": "https://localhost:8080/"
        },
        "id": "G2MqaxWvGHRr",
        "outputId": "d951885f-c560-47a4-8b8f-7bb41f0fd9d3"
      },
      "execution_count": 68,
      "outputs": [
        {
          "output_type": "stream",
          "name": "stdout",
          "text": [
            "Index(['Pclass', 'Sex', 'Age', 'SibSp', 'Parch', 'Fare', 'Embarked'], dtype='object')\n"
          ]
        }
      ]
    },
    {
      "cell_type": "code",
      "source": [
        "from sklearn.impute import SimpleImputer\n",
        "\n",
        "#класс для заполнения средним значением\n",
        "imputer = SimpleImputer(strategy=\"mean\")\n",
        "# Замена нанов средним значением\n",
        "X_test_imputed = imputer.fit_transform(X_test)\n",
        "columns_to_impute = [\"Pclass\", \"Sex\", \"Age\", \"SibSp\", \"Parch\", \"Fare\", \"Embarked\"]\n",
        "test_data[columns_to_impute] = imputer.fit_transform(test_data[columns_to_impute])"
      ],
      "metadata": {
        "id": "M1YmSk-sOS1K"
      },
      "execution_count": 103,
      "outputs": []
    },
    {
      "cell_type": "code",
      "source": [
        "print(X_test.columns)"
      ],
      "metadata": {
        "colab": {
          "base_uri": "https://localhost:8080/"
        },
        "id": "h5ez1ojCM1AY",
        "outputId": "4b441c3b-1d57-422c-89ae-380ff8e4964a"
      },
      "execution_count": 79,
      "outputs": [
        {
          "output_type": "stream",
          "name": "stdout",
          "text": [
            "Index(['Pclass', 'Sex', 'Age', 'SibSp', 'Parch', 'Fare', 'Embarked'], dtype='object')\n"
          ]
        }
      ]
    },
    {
      "cell_type": "code",
      "source": [
        "import numpy as np\n",
        "print(np.isnan(X_test_imputed).sum())"
      ],
      "metadata": {
        "colab": {
          "base_uri": "https://localhost:8080/"
        },
        "id": "oHGzaodpNYOi",
        "outputId": "9056b3d3-be8b-40d6-9578-d2d6bc2b26cf"
      },
      "execution_count": 104,
      "outputs": [
        {
          "output_type": "stream",
          "name": "stdout",
          "text": [
            "0\n"
          ]
        }
      ]
    },
    {
      "cell_type": "code",
      "source": [
        "X_test.columns = [\"Pclass\", \"Sex\", \"Age\", \"SibSp\", \"Parch\", \"Fare\", \"Embarked\"]\n",
        "#применяю симпл\n",
        "imputer = SimpleImputer(strategy=\"mean\")\n",
        "X_test_imputed = imputer.fit_transform(X_test)"
      ],
      "metadata": {
        "id": "_Jy9oSAHOx6-"
      },
      "execution_count": 105,
      "outputs": []
    },
    {
      "cell_type": "code",
      "source": [
        "linreg.fit(X_train, y_train)"
      ],
      "metadata": {
        "colab": {
          "base_uri": "https://localhost:8080/",
          "height": 75
        },
        "id": "QgmETP6DQRWr",
        "outputId": "7b4d29c0-113b-4c2f-985c-30707c1f72db"
      },
      "execution_count": 95,
      "outputs": [
        {
          "output_type": "execute_result",
          "data": {
            "text/plain": [
              "LinearRegression()"
            ],
            "text/html": [
              "<style>#sk-container-id-4 {color: black;background-color: white;}#sk-container-id-4 pre{padding: 0;}#sk-container-id-4 div.sk-toggleable {background-color: white;}#sk-container-id-4 label.sk-toggleable__label {cursor: pointer;display: block;width: 100%;margin-bottom: 0;padding: 0.3em;box-sizing: border-box;text-align: center;}#sk-container-id-4 label.sk-toggleable__label-arrow:before {content: \"▸\";float: left;margin-right: 0.25em;color: #696969;}#sk-container-id-4 label.sk-toggleable__label-arrow:hover:before {color: black;}#sk-container-id-4 div.sk-estimator:hover label.sk-toggleable__label-arrow:before {color: black;}#sk-container-id-4 div.sk-toggleable__content {max-height: 0;max-width: 0;overflow: hidden;text-align: left;background-color: #f0f8ff;}#sk-container-id-4 div.sk-toggleable__content pre {margin: 0.2em;color: black;border-radius: 0.25em;background-color: #f0f8ff;}#sk-container-id-4 input.sk-toggleable__control:checked~div.sk-toggleable__content {max-height: 200px;max-width: 100%;overflow: auto;}#sk-container-id-4 input.sk-toggleable__control:checked~label.sk-toggleable__label-arrow:before {content: \"▾\";}#sk-container-id-4 div.sk-estimator input.sk-toggleable__control:checked~label.sk-toggleable__label {background-color: #d4ebff;}#sk-container-id-4 div.sk-label input.sk-toggleable__control:checked~label.sk-toggleable__label {background-color: #d4ebff;}#sk-container-id-4 input.sk-hidden--visually {border: 0;clip: rect(1px 1px 1px 1px);clip: rect(1px, 1px, 1px, 1px);height: 1px;margin: -1px;overflow: hidden;padding: 0;position: absolute;width: 1px;}#sk-container-id-4 div.sk-estimator {font-family: monospace;background-color: #f0f8ff;border: 1px dotted black;border-radius: 0.25em;box-sizing: border-box;margin-bottom: 0.5em;}#sk-container-id-4 div.sk-estimator:hover {background-color: #d4ebff;}#sk-container-id-4 div.sk-parallel-item::after {content: \"\";width: 100%;border-bottom: 1px solid gray;flex-grow: 1;}#sk-container-id-4 div.sk-label:hover label.sk-toggleable__label {background-color: #d4ebff;}#sk-container-id-4 div.sk-serial::before {content: \"\";position: absolute;border-left: 1px solid gray;box-sizing: border-box;top: 0;bottom: 0;left: 50%;z-index: 0;}#sk-container-id-4 div.sk-serial {display: flex;flex-direction: column;align-items: center;background-color: white;padding-right: 0.2em;padding-left: 0.2em;position: relative;}#sk-container-id-4 div.sk-item {position: relative;z-index: 1;}#sk-container-id-4 div.sk-parallel {display: flex;align-items: stretch;justify-content: center;background-color: white;position: relative;}#sk-container-id-4 div.sk-item::before, #sk-container-id-4 div.sk-parallel-item::before {content: \"\";position: absolute;border-left: 1px solid gray;box-sizing: border-box;top: 0;bottom: 0;left: 50%;z-index: -1;}#sk-container-id-4 div.sk-parallel-item {display: flex;flex-direction: column;z-index: 1;position: relative;background-color: white;}#sk-container-id-4 div.sk-parallel-item:first-child::after {align-self: flex-end;width: 50%;}#sk-container-id-4 div.sk-parallel-item:last-child::after {align-self: flex-start;width: 50%;}#sk-container-id-4 div.sk-parallel-item:only-child::after {width: 0;}#sk-container-id-4 div.sk-dashed-wrapped {border: 1px dashed gray;margin: 0 0.4em 0.5em 0.4em;box-sizing: border-box;padding-bottom: 0.4em;background-color: white;}#sk-container-id-4 div.sk-label label {font-family: monospace;font-weight: bold;display: inline-block;line-height: 1.2em;}#sk-container-id-4 div.sk-label-container {text-align: center;}#sk-container-id-4 div.sk-container {/* jupyter's `normalize.less` sets `[hidden] { display: none; }` but bootstrap.min.css set `[hidden] { display: none !important; }` so we also need the `!important` here to be able to override the default hidden behavior on the sphinx rendered scikit-learn.org. See: https://github.com/scikit-learn/scikit-learn/issues/21755 */display: inline-block !important;position: relative;}#sk-container-id-4 div.sk-text-repr-fallback {display: none;}</style><div id=\"sk-container-id-4\" class=\"sk-top-container\"><div class=\"sk-text-repr-fallback\"><pre>LinearRegression()</pre><b>In a Jupyter environment, please rerun this cell to show the HTML representation or trust the notebook. <br />On GitHub, the HTML representation is unable to render, please try loading this page with nbviewer.org.</b></div><div class=\"sk-container\" hidden><div class=\"sk-item\"><div class=\"sk-estimator sk-toggleable\"><input class=\"sk-toggleable__control sk-hidden--visually\" id=\"sk-estimator-id-4\" type=\"checkbox\" checked><label for=\"sk-estimator-id-4\" class=\"sk-toggleable__label sk-toggleable__label-arrow\">LinearRegression</label><div class=\"sk-toggleable__content\"><pre>LinearRegression()</pre></div></div></div></div></div>"
            ]
          },
          "metadata": {},
          "execution_count": 95
        }
      ]
    },
    {
      "cell_type": "code",
      "source": [
        "y_age_pred = linreg.predict(X_test[[\"Pclass\", \"Sex\", \"Age\", \"SibSp\", \"Parch\", \"Fare\", \"Embarked\"]])"
      ],
      "metadata": {
        "id": "eaQgnqG_QUib"
      },
      "execution_count": 96,
      "outputs": []
    },
    {
      "cell_type": "code",
      "source": [
        "test_data[\"Age\"] = y_age_pred\n",
        "test_data.to_csv(\"predicted_test.csv\", index=False)"
      ],
      "metadata": {
        "id": "zNboXsp6QWap"
      },
      "execution_count": 97,
      "outputs": []
    },
    {
      "cell_type": "code",
      "source": [
        "X_test = test_data[[\"Pclass\", \"Sex\", \"Age\", \"SibSp\", \"Parch\", \"Fare\", \"Embarked\"]]\n",
        "\n",
        "y_survived_pred = logreg.predict(X_test)\n",
        "y_age_pred = linreg.predict(X_test[[\"Pclass\", \"Sex\", \"Age\", \"SibSp\", \"Parch\", \"Fare\", \"Embarked\"]])\n",
        "y_embarked_pred = knn.predict(X_test[[\"Pclass\", \"Sex\", \"Age\", \"SibSp\", \"Parch\", \"Fare\"]])\n",
        "\n",
        "test_data[\"Survived\"] = y_survived_pred\n",
        "test_data[\"Age\"] = y_age_pred\n",
        "test_data[\"Embarked\"] = y_embarked_pred\n",
        "\n",
        "test_data.to_csv(\"finally_test.csv\", index=False)"
      ],
      "metadata": {
        "id": "MaXI9sxJQbof"
      },
      "execution_count": 108,
      "outputs": []
    },
    {
      "cell_type": "code",
      "source": [
        "X_test = test_data[[\"Pclass\", \"Sex\", \"Age\", \"SibSp\", \"Parch\", \"Fare\", \"Embarked\"]].copy()"
      ],
      "metadata": {
        "id": "SnMurCIgRKwb"
      },
      "execution_count": 106,
      "outputs": []
    },
    {
      "cell_type": "code",
      "source": [
        "print(X_test.columns)"
      ],
      "metadata": {
        "colab": {
          "base_uri": "https://localhost:8080/"
        },
        "id": "d1kT5QFKOhRa",
        "outputId": "3694a73b-2bbb-4d9e-d19e-2d92592438bb"
      },
      "execution_count": 87,
      "outputs": [
        {
          "output_type": "stream",
          "name": "stdout",
          "text": [
            "Index(['Pclass', 'Sex', 'Age', 'SibSp', 'Parch', 'Fare', 'Embarked'], dtype='object')\n"
          ]
        }
      ]
    }
  ]
}